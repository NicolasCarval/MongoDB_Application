{
 "cells": [
  {
   "cell_type": "markdown",
   "metadata": {},
   "source": [
    "# Denormalisation schema 2"
   ]
  },
  {
   "cell_type": "markdown",
   "metadata": {},
   "source": [
    "**Goal :**\n",
    "\n",
    "1) Actors\n",
    "\n",
    "2) Movies\n",
    "\n",
    "3) Directors"
   ]
  },
  {
   "cell_type": "markdown",
   "metadata": {},
   "source": [
    "## Libraries"
   ]
  },
  {
   "cell_type": "code",
   "execution_count": 1,
   "metadata": {},
   "outputs": [],
   "source": [
    "import pandas as pd\n",
    "import numpy as np\n",
    "import os\n",
    "import glob\n",
    "import json\n",
    "from tqdm import tqdm"
   ]
  },
  {
   "cell_type": "markdown",
   "metadata": {},
   "source": [
    "## JSON files"
   ]
  },
  {
   "cell_type": "code",
   "execution_count": 2,
   "metadata": {},
   "outputs": [
    {
     "name": "stdout",
     "output_type": "stream",
     "text": [
      "Current working directory: C:\\Users\\qnava\\Desktop\\Ecole\\Cours\\A5\\S9\\Structures de données pour le cloud\\Projet\\IMDB\\json_files\n"
     ]
    }
   ],
   "source": [
    "path = os.path.join(os.getcwd(), \"IMDB\\json_files\")\n",
    "# directory (CWD) \n",
    "print(\"Current working directory:\", path) "
   ]
  },
  {
   "cell_type": "code",
   "execution_count": 3,
   "metadata": {},
   "outputs": [
    {
     "data": {
      "text/html": [
       "<div>\n",
       "<style scoped>\n",
       "    .dataframe tbody tr th:only-of-type {\n",
       "        vertical-align: middle;\n",
       "    }\n",
       "\n",
       "    .dataframe tbody tr th {\n",
       "        vertical-align: top;\n",
       "    }\n",
       "\n",
       "    .dataframe thead th {\n",
       "        text-align: right;\n",
       "    }\n",
       "</style>\n",
       "<table border=\"1\" class=\"dataframe\">\n",
       "  <thead>\n",
       "    <tr style=\"text-align: right;\">\n",
       "      <th></th>\n",
       "      <th>id</th>\n",
       "      <th>first_name</th>\n",
       "      <th>last_name</th>\n",
       "    </tr>\n",
       "  </thead>\n",
       "  <tbody>\n",
       "    <tr>\n",
       "      <th>0</th>\n",
       "      <td>1</td>\n",
       "      <td>Todd</td>\n",
       "      <td>1</td>\n",
       "    </tr>\n",
       "    <tr>\n",
       "      <th>1</th>\n",
       "      <td>2</td>\n",
       "      <td>Les</td>\n",
       "      <td>12 Poissons</td>\n",
       "    </tr>\n",
       "    <tr>\n",
       "      <th>2</th>\n",
       "      <td>3</td>\n",
       "      <td>Lejaren</td>\n",
       "      <td>a'Hiller</td>\n",
       "    </tr>\n",
       "    <tr>\n",
       "      <th>3</th>\n",
       "      <td>4</td>\n",
       "      <td>Nian</td>\n",
       "      <td>A</td>\n",
       "    </tr>\n",
       "    <tr>\n",
       "      <th>4</th>\n",
       "      <td>5</td>\n",
       "      <td>Khairiya</td>\n",
       "      <td>A-Mansour</td>\n",
       "    </tr>\n",
       "    <tr>\n",
       "      <th>...</th>\n",
       "      <td>...</td>\n",
       "      <td>...</td>\n",
       "      <td>...</td>\n",
       "    </tr>\n",
       "    <tr>\n",
       "      <th>86875</th>\n",
       "      <td>88797</td>\n",
       "      <td>Yusuf</td>\n",
       "      <td>Ünal</td>\n",
       "    </tr>\n",
       "    <tr>\n",
       "      <th>86876</th>\n",
       "      <td>88798</td>\n",
       "      <td>Ahmet</td>\n",
       "      <td>Ündag</td>\n",
       "    </tr>\n",
       "    <tr>\n",
       "      <th>86877</th>\n",
       "      <td>88799</td>\n",
       "      <td>Idil</td>\n",
       "      <td>Üner</td>\n",
       "    </tr>\n",
       "    <tr>\n",
       "      <th>86878</th>\n",
       "      <td>88800</td>\n",
       "      <td>Yüksel</td>\n",
       "      <td>Ünsal</td>\n",
       "    </tr>\n",
       "    <tr>\n",
       "      <th>86879</th>\n",
       "      <td>88801</td>\n",
       "      <td>Ahmet</td>\n",
       "      <td>Üstel</td>\n",
       "    </tr>\n",
       "  </tbody>\n",
       "</table>\n",
       "<p>86880 rows × 3 columns</p>\n",
       "</div>"
      ],
      "text/plain": [
       "          id first_name    last_name\n",
       "0          1       Todd            1\n",
       "1          2        Les  12 Poissons\n",
       "2          3    Lejaren     a'Hiller\n",
       "3          4       Nian            A\n",
       "4          5   Khairiya    A-Mansour\n",
       "...      ...        ...          ...\n",
       "86875  88797      Yusuf         Ünal\n",
       "86876  88798      Ahmet        Ündag\n",
       "86877  88799       Idil         Üner\n",
       "86878  88800     Yüksel        Ünsal\n",
       "86879  88801      Ahmet        Üstel\n",
       "\n",
       "[86880 rows x 3 columns]"
      ]
     },
     "execution_count": 3,
     "metadata": {},
     "output_type": "execute_result"
    }
   ],
   "source": [
    "Directors = pd.read_json(path+\"\\directors.json\")\n",
    "Directors"
   ]
  },
  {
   "cell_type": "code",
   "execution_count": 4,
   "metadata": {},
   "outputs": [
    {
     "data": {
      "text/html": [
       "<div>\n",
       "<style scoped>\n",
       "    .dataframe tbody tr th:only-of-type {\n",
       "        vertical-align: middle;\n",
       "    }\n",
       "\n",
       "    .dataframe tbody tr th {\n",
       "        vertical-align: top;\n",
       "    }\n",
       "\n",
       "    .dataframe thead th {\n",
       "        text-align: right;\n",
       "    }\n",
       "</style>\n",
       "<table border=\"1\" class=\"dataframe\">\n",
       "  <thead>\n",
       "    <tr style=\"text-align: right;\">\n",
       "      <th></th>\n",
       "      <th>director_id</th>\n",
       "      <th>genre</th>\n",
       "      <th>prob</th>\n",
       "    </tr>\n",
       "  </thead>\n",
       "  <tbody>\n",
       "    <tr>\n",
       "      <th>0</th>\n",
       "      <td>2</td>\n",
       "      <td>Short</td>\n",
       "      <td>1.0</td>\n",
       "    </tr>\n",
       "    <tr>\n",
       "      <th>1</th>\n",
       "      <td>3</td>\n",
       "      <td>Drama</td>\n",
       "      <td>1.0</td>\n",
       "    </tr>\n",
       "    <tr>\n",
       "      <th>2</th>\n",
       "      <td>5</td>\n",
       "      <td>Documentary</td>\n",
       "      <td>1.0</td>\n",
       "    </tr>\n",
       "    <tr>\n",
       "      <th>3</th>\n",
       "      <td>6</td>\n",
       "      <td>Drama</td>\n",
       "      <td>1.0</td>\n",
       "    </tr>\n",
       "    <tr>\n",
       "      <th>4</th>\n",
       "      <td>6</td>\n",
       "      <td>Short</td>\n",
       "      <td>1.0</td>\n",
       "    </tr>\n",
       "    <tr>\n",
       "      <th>...</th>\n",
       "      <td>...</td>\n",
       "      <td>...</td>\n",
       "      <td>...</td>\n",
       "    </tr>\n",
       "    <tr>\n",
       "      <th>156557</th>\n",
       "      <td>88797</td>\n",
       "      <td>Drama</td>\n",
       "      <td>1.0</td>\n",
       "    </tr>\n",
       "    <tr>\n",
       "      <th>156558</th>\n",
       "      <td>88798</td>\n",
       "      <td>Adventure</td>\n",
       "      <td>1.0</td>\n",
       "    </tr>\n",
       "    <tr>\n",
       "      <th>156559</th>\n",
       "      <td>88799</td>\n",
       "      <td>Short</td>\n",
       "      <td>1.0</td>\n",
       "    </tr>\n",
       "    <tr>\n",
       "      <th>156560</th>\n",
       "      <td>88800</td>\n",
       "      <td>Animation</td>\n",
       "      <td>1.0</td>\n",
       "    </tr>\n",
       "    <tr>\n",
       "      <th>156561</th>\n",
       "      <td>88800</td>\n",
       "      <td>Comedy</td>\n",
       "      <td>1.0</td>\n",
       "    </tr>\n",
       "  </tbody>\n",
       "</table>\n",
       "<p>156562 rows × 3 columns</p>\n",
       "</div>"
      ],
      "text/plain": [
       "        director_id        genre  prob\n",
       "0                 2        Short   1.0\n",
       "1                 3        Drama   1.0\n",
       "2                 5  Documentary   1.0\n",
       "3                 6        Drama   1.0\n",
       "4                 6        Short   1.0\n",
       "...             ...          ...   ...\n",
       "156557        88797        Drama   1.0\n",
       "156558        88798    Adventure   1.0\n",
       "156559        88799        Short   1.0\n",
       "156560        88800    Animation   1.0\n",
       "156561        88800       Comedy   1.0\n",
       "\n",
       "[156562 rows x 3 columns]"
      ]
     },
     "execution_count": 4,
     "metadata": {},
     "output_type": "execute_result"
    }
   ],
   "source": [
    "Directors_genres = pd.read_json(path+\"\\directors_genres.json\").sort_values(by=\"director_id\")\n",
    "Directors_genres"
   ]
  },
  {
   "cell_type": "code",
   "execution_count": 5,
   "metadata": {},
   "outputs": [
    {
     "data": {
      "text/plain": [
       "director_id    7828.1\n",
       "prob           7828.1\n",
       "dtype: float64"
      ]
     },
     "execution_count": 5,
     "metadata": {},
     "output_type": "execute_result"
    }
   ],
   "source": [
    "Directors_genres.groupby([\"genre\"]).agg(\"count\").mean()"
   ]
  },
  {
   "cell_type": "code",
   "execution_count": 6,
   "metadata": {},
   "outputs": [
    {
     "data": {
      "text/html": [
       "<div>\n",
       "<style scoped>\n",
       "    .dataframe tbody tr th:only-of-type {\n",
       "        vertical-align: middle;\n",
       "    }\n",
       "\n",
       "    .dataframe tbody tr th {\n",
       "        vertical-align: top;\n",
       "    }\n",
       "\n",
       "    .dataframe thead th {\n",
       "        text-align: right;\n",
       "    }\n",
       "</style>\n",
       "<table border=\"1\" class=\"dataframe\">\n",
       "  <thead>\n",
       "    <tr style=\"text-align: right;\">\n",
       "      <th></th>\n",
       "      <th>id</th>\n",
       "      <th>name</th>\n",
       "      <th>year</th>\n",
       "      <th>rank</th>\n",
       "    </tr>\n",
       "  </thead>\n",
       "  <tbody>\n",
       "    <tr>\n",
       "      <th>0</th>\n",
       "      <td>0</td>\n",
       "      <td>#28</td>\n",
       "      <td>2002</td>\n",
       "      <td>NaN</td>\n",
       "    </tr>\n",
       "    <tr>\n",
       "      <th>1</th>\n",
       "      <td>1</td>\n",
       "      <td>#7 Train: An Immigrant Journey, The</td>\n",
       "      <td>2000</td>\n",
       "      <td>NaN</td>\n",
       "    </tr>\n",
       "    <tr>\n",
       "      <th>2</th>\n",
       "      <td>2</td>\n",
       "      <td>$</td>\n",
       "      <td>1971</td>\n",
       "      <td>6.4</td>\n",
       "    </tr>\n",
       "    <tr>\n",
       "      <th>3</th>\n",
       "      <td>3</td>\n",
       "      <td>$1,000 Reward</td>\n",
       "      <td>1913</td>\n",
       "      <td>NaN</td>\n",
       "    </tr>\n",
       "    <tr>\n",
       "      <th>4</th>\n",
       "      <td>4</td>\n",
       "      <td>$1,000 Reward</td>\n",
       "      <td>1915</td>\n",
       "      <td>NaN</td>\n",
       "    </tr>\n",
       "    <tr>\n",
       "      <th>...</th>\n",
       "      <td>...</td>\n",
       "      <td>...</td>\n",
       "      <td>...</td>\n",
       "      <td>...</td>\n",
       "    </tr>\n",
       "    <tr>\n",
       "      <th>388264</th>\n",
       "      <td>412316</td>\n",
       "      <td>\"zem blch krlu\"</td>\n",
       "      <td>1991</td>\n",
       "      <td>NaN</td>\n",
       "    </tr>\n",
       "    <tr>\n",
       "      <th>388265</th>\n",
       "      <td>412317</td>\n",
       "      <td>\"rgammk\"</td>\n",
       "      <td>1995</td>\n",
       "      <td>NaN</td>\n",
       "    </tr>\n",
       "    <tr>\n",
       "      <th>388266</th>\n",
       "      <td>412318</td>\n",
       "      <td>\"zgnm Leyla\"</td>\n",
       "      <td>2002</td>\n",
       "      <td>NaN</td>\n",
       "    </tr>\n",
       "    <tr>\n",
       "      <th>388267</th>\n",
       "      <td>412319</td>\n",
       "      <td>\" Istanbul\"</td>\n",
       "      <td>1983</td>\n",
       "      <td>NaN</td>\n",
       "    </tr>\n",
       "    <tr>\n",
       "      <th>388268</th>\n",
       "      <td>412320</td>\n",
       "      <td>\"sterreich\"</td>\n",
       "      <td>1958</td>\n",
       "      <td>NaN</td>\n",
       "    </tr>\n",
       "  </tbody>\n",
       "</table>\n",
       "<p>388269 rows × 4 columns</p>\n",
       "</div>"
      ],
      "text/plain": [
       "            id                                 name  year  rank\n",
       "0            0                                  #28  2002   NaN\n",
       "1            1  #7 Train: An Immigrant Journey, The  2000   NaN\n",
       "2            2                                    $  1971   6.4\n",
       "3            3                        $1,000 Reward  1913   NaN\n",
       "4            4                        $1,000 Reward  1915   NaN\n",
       "...        ...                                  ...   ...   ...\n",
       "388264  412316                      \"zem blch krlu\"  1991   NaN\n",
       "388265  412317                             \"rgammk\"  1995   NaN\n",
       "388266  412318                         \"zgnm Leyla\"  2002   NaN\n",
       "388267  412319                          \" Istanbul\"  1983   NaN\n",
       "388268  412320                          \"sterreich\"  1958   NaN\n",
       "\n",
       "[388269 rows x 4 columns]"
      ]
     },
     "execution_count": 6,
     "metadata": {},
     "output_type": "execute_result"
    }
   ],
   "source": [
    "Movies = pd.read_json(path+\"\\movies.json\")\n",
    "Movies"
   ]
  },
  {
   "cell_type": "code",
   "execution_count": null,
   "metadata": {},
   "outputs": [],
   "source": []
  },
  {
   "cell_type": "code",
   "execution_count": 18,
   "metadata": {},
   "outputs": [],
   "source": [
    "Movies_genres2= Movies_genres.set_index(\"movie_id\").join(Movies.set_index(\"id\"))"
   ]
  },
  {
   "cell_type": "code",
   "execution_count": 25,
   "metadata": {},
   "outputs": [
    {
     "data": {
      "text/plain": [
       "18057.95238095238"
      ]
     },
     "execution_count": 25,
     "metadata": {},
     "output_type": "execute_result"
    }
   ],
   "source": [
    "Movies_genres2.drop_duplicates([\"genre\",\"name\"]).groupby(\"genre\").agg(\"count\")[\"name\"].mean()"
   ]
  },
  {
   "cell_type": "code",
   "execution_count": 22,
   "metadata": {},
   "outputs": [
    {
     "data": {
      "text/html": [
       "<div>\n",
       "<style scoped>\n",
       "    .dataframe tbody tr th:only-of-type {\n",
       "        vertical-align: middle;\n",
       "    }\n",
       "\n",
       "    .dataframe tbody tr th {\n",
       "        vertical-align: top;\n",
       "    }\n",
       "\n",
       "    .dataframe thead th {\n",
       "        text-align: right;\n",
       "    }\n",
       "</style>\n",
       "<table border=\"1\" class=\"dataframe\">\n",
       "  <thead>\n",
       "    <tr style=\"text-align: right;\">\n",
       "      <th></th>\n",
       "      <th>genre</th>\n",
       "      <th>name</th>\n",
       "      <th>year</th>\n",
       "      <th>rank</th>\n",
       "    </tr>\n",
       "  </thead>\n",
       "  <tbody>\n",
       "    <tr>\n",
       "      <th>1</th>\n",
       "      <td>Documentary</td>\n",
       "      <td>#7 Train: An Immigrant Journey, The</td>\n",
       "      <td>2000</td>\n",
       "      <td>NaN</td>\n",
       "    </tr>\n",
       "    <tr>\n",
       "      <th>1</th>\n",
       "      <td>Short</td>\n",
       "      <td>#7 Train: An Immigrant Journey, The</td>\n",
       "      <td>2000</td>\n",
       "      <td>NaN</td>\n",
       "    </tr>\n",
       "    <tr>\n",
       "      <th>2</th>\n",
       "      <td>Comedy</td>\n",
       "      <td>$</td>\n",
       "      <td>1971</td>\n",
       "      <td>6.4</td>\n",
       "    </tr>\n",
       "    <tr>\n",
       "      <th>2</th>\n",
       "      <td>Crime</td>\n",
       "      <td>$</td>\n",
       "      <td>1971</td>\n",
       "      <td>6.4</td>\n",
       "    </tr>\n",
       "    <tr>\n",
       "      <th>5</th>\n",
       "      <td>Western</td>\n",
       "      <td>$1,000 Reward</td>\n",
       "      <td>1923</td>\n",
       "      <td>NaN</td>\n",
       "    </tr>\n",
       "  </tbody>\n",
       "</table>\n",
       "</div>"
      ],
      "text/plain": [
       "         genre                                 name  year  rank\n",
       "1  Documentary  #7 Train: An Immigrant Journey, The  2000   NaN\n",
       "1        Short  #7 Train: An Immigrant Journey, The  2000   NaN\n",
       "2       Comedy                                    $  1971   6.4\n",
       "2        Crime                                    $  1971   6.4\n",
       "5      Western                        $1,000 Reward  1923   NaN"
      ]
     },
     "execution_count": 22,
     "metadata": {},
     "output_type": "execute_result"
    }
   ],
   "source": [
    "Movies_genres2.head()"
   ]
  },
  {
   "cell_type": "code",
   "execution_count": 7,
   "metadata": {},
   "outputs": [
    {
     "data": {
      "text/html": [
       "<div>\n",
       "<style scoped>\n",
       "    .dataframe tbody tr th:only-of-type {\n",
       "        vertical-align: middle;\n",
       "    }\n",
       "\n",
       "    .dataframe tbody tr th {\n",
       "        vertical-align: top;\n",
       "    }\n",
       "\n",
       "    .dataframe thead th {\n",
       "        text-align: right;\n",
       "    }\n",
       "</style>\n",
       "<table border=\"1\" class=\"dataframe\">\n",
       "  <thead>\n",
       "    <tr style=\"text-align: right;\">\n",
       "      <th></th>\n",
       "      <th>movie_id</th>\n",
       "      <th>genre</th>\n",
       "    </tr>\n",
       "  </thead>\n",
       "  <tbody>\n",
       "    <tr>\n",
       "      <th>0</th>\n",
       "      <td>1</td>\n",
       "      <td>Documentary</td>\n",
       "    </tr>\n",
       "    <tr>\n",
       "      <th>1</th>\n",
       "      <td>1</td>\n",
       "      <td>Short</td>\n",
       "    </tr>\n",
       "    <tr>\n",
       "      <th>2</th>\n",
       "      <td>2</td>\n",
       "      <td>Comedy</td>\n",
       "    </tr>\n",
       "    <tr>\n",
       "      <th>3</th>\n",
       "      <td>2</td>\n",
       "      <td>Crime</td>\n",
       "    </tr>\n",
       "    <tr>\n",
       "      <th>4</th>\n",
       "      <td>5</td>\n",
       "      <td>Western</td>\n",
       "    </tr>\n",
       "    <tr>\n",
       "      <th>...</th>\n",
       "      <td>...</td>\n",
       "      <td>...</td>\n",
       "    </tr>\n",
       "    <tr>\n",
       "      <th>395114</th>\n",
       "      <td>378612</td>\n",
       "      <td>Adventure</td>\n",
       "    </tr>\n",
       "    <tr>\n",
       "      <th>395115</th>\n",
       "      <td>378612</td>\n",
       "      <td>Drama</td>\n",
       "    </tr>\n",
       "    <tr>\n",
       "      <th>395116</th>\n",
       "      <td>378613</td>\n",
       "      <td>Comedy</td>\n",
       "    </tr>\n",
       "    <tr>\n",
       "      <th>395117</th>\n",
       "      <td>378613</td>\n",
       "      <td>Drama</td>\n",
       "    </tr>\n",
       "    <tr>\n",
       "      <th>395118</th>\n",
       "      <td>378614</td>\n",
       "      <td>Comedy</td>\n",
       "    </tr>\n",
       "  </tbody>\n",
       "</table>\n",
       "<p>395119 rows × 2 columns</p>\n",
       "</div>"
      ],
      "text/plain": [
       "        movie_id        genre\n",
       "0              1  Documentary\n",
       "1              1        Short\n",
       "2              2       Comedy\n",
       "3              2        Crime\n",
       "4              5      Western\n",
       "...          ...          ...\n",
       "395114    378612    Adventure\n",
       "395115    378612        Drama\n",
       "395116    378613       Comedy\n",
       "395117    378613        Drama\n",
       "395118    378614       Comedy\n",
       "\n",
       "[395119 rows x 2 columns]"
      ]
     },
     "execution_count": 7,
     "metadata": {},
     "output_type": "execute_result"
    }
   ],
   "source": [
    "Movies_genres = pd.read_json(path+\"\\movies_genres.json\")\n",
    "Movies_genres"
   ]
  },
  {
   "cell_type": "code",
   "execution_count": 17,
   "metadata": {},
   "outputs": [
    {
     "data": {
      "text/plain": [
       "movie_id    18815.190476\n",
       "dtype: float64"
      ]
     },
     "execution_count": 17,
     "metadata": {},
     "output_type": "execute_result"
    }
   ],
   "source": [
    "Movies_genres.groupby(\"genre\").agg(\"count\").mean()"
   ]
  },
  {
   "cell_type": "code",
   "execution_count": 8,
   "metadata": {},
   "outputs": [
    {
     "data": {
      "text/plain": [
       "movie_id    18815.190476\n",
       "dtype: float64"
      ]
     },
     "execution_count": 8,
     "metadata": {},
     "output_type": "execute_result"
    }
   ],
   "source": [
    "#Nb films par genre : \n",
    "Movies_genres.groupby(\"genre\").count().mean()"
   ]
  },
  {
   "cell_type": "code",
   "execution_count": 9,
   "metadata": {},
   "outputs": [
    {
     "data": {
      "text/plain": [
       "array(['Documentary', 'Short', 'Comedy', 'Crime', 'Western', 'Family',\n",
       "       'Animation', 'Drama', 'Romance', 'Mystery', 'Thriller', 'Adult',\n",
       "       'Music', 'Action', 'Fantasy', 'Sci-Fi', 'Horror', 'War', 'Musical',\n",
       "       'Adventure', 'Film-Noir'], dtype=object)"
      ]
     },
     "execution_count": 9,
     "metadata": {},
     "output_type": "execute_result"
    }
   ],
   "source": [
    "Movies_genres[\"genre\"].unique()"
   ]
  },
  {
   "cell_type": "code",
   "execution_count": 10,
   "metadata": {
    "scrolled": true
   },
   "outputs": [
    {
     "data": {
      "text/html": [
       "<div>\n",
       "<style scoped>\n",
       "    .dataframe tbody tr th:only-of-type {\n",
       "        vertical-align: middle;\n",
       "    }\n",
       "\n",
       "    .dataframe tbody tr th {\n",
       "        vertical-align: top;\n",
       "    }\n",
       "\n",
       "    .dataframe thead th {\n",
       "        text-align: right;\n",
       "    }\n",
       "</style>\n",
       "<table border=\"1\" class=\"dataframe\">\n",
       "  <thead>\n",
       "    <tr style=\"text-align: right;\">\n",
       "      <th></th>\n",
       "      <th>director_id</th>\n",
       "      <th>movie_id</th>\n",
       "    </tr>\n",
       "  </thead>\n",
       "  <tbody>\n",
       "    <tr>\n",
       "      <th>163516</th>\n",
       "      <td>38057</td>\n",
       "      <td>0</td>\n",
       "    </tr>\n",
       "    <tr>\n",
       "      <th>257818</th>\n",
       "      <td>60728</td>\n",
       "      <td>1</td>\n",
       "    </tr>\n",
       "    <tr>\n",
       "      <th>327612</th>\n",
       "      <td>77912</td>\n",
       "      <td>1</td>\n",
       "    </tr>\n",
       "    <tr>\n",
       "      <th>41291</th>\n",
       "      <td>9970</td>\n",
       "      <td>2</td>\n",
       "    </tr>\n",
       "    <tr>\n",
       "      <th>303093</th>\n",
       "      <td>71885</td>\n",
       "      <td>5</td>\n",
       "    </tr>\n",
       "    <tr>\n",
       "      <th>...</th>\n",
       "      <td>...</td>\n",
       "      <td>...</td>\n",
       "    </tr>\n",
       "    <tr>\n",
       "      <th>317133</th>\n",
       "      <td>75198</td>\n",
       "      <td>412317</td>\n",
       "    </tr>\n",
       "    <tr>\n",
       "      <th>182167</th>\n",
       "      <td>42605</td>\n",
       "      <td>412317</td>\n",
       "    </tr>\n",
       "    <tr>\n",
       "      <th>3040</th>\n",
       "      <td>890</td>\n",
       "      <td>412318</td>\n",
       "    </tr>\n",
       "    <tr>\n",
       "      <th>339033</th>\n",
       "      <td>80751</td>\n",
       "      <td>412319</td>\n",
       "    </tr>\n",
       "    <tr>\n",
       "      <th>272580</th>\n",
       "      <td>64499</td>\n",
       "      <td>412320</td>\n",
       "    </tr>\n",
       "  </tbody>\n",
       "</table>\n",
       "<p>371180 rows × 2 columns</p>\n",
       "</div>"
      ],
      "text/plain": [
       "        director_id  movie_id\n",
       "163516        38057         0\n",
       "257818        60728         1\n",
       "327612        77912         1\n",
       "41291          9970         2\n",
       "303093        71885         5\n",
       "...             ...       ...\n",
       "317133        75198    412317\n",
       "182167        42605    412317\n",
       "3040            890    412318\n",
       "339033        80751    412319\n",
       "272580        64499    412320\n",
       "\n",
       "[371180 rows x 2 columns]"
      ]
     },
     "execution_count": 10,
     "metadata": {},
     "output_type": "execute_result"
    }
   ],
   "source": [
    "Movies_directors = pd.read_json(path+\"\\movies_directors.json\").sort_values(by=\"movie_id\")\n",
    "Movies_directors"
   ]
  },
  {
   "cell_type": "code",
   "execution_count": 11,
   "metadata": {
    "scrolled": false
   },
   "outputs": [
    {
     "data": {
      "text/html": [
       "<div>\n",
       "<style scoped>\n",
       "    .dataframe tbody tr th:only-of-type {\n",
       "        vertical-align: middle;\n",
       "    }\n",
       "\n",
       "    .dataframe tbody tr th {\n",
       "        vertical-align: top;\n",
       "    }\n",
       "\n",
       "    .dataframe thead th {\n",
       "        text-align: right;\n",
       "    }\n",
       "</style>\n",
       "<table border=\"1\" class=\"dataframe\">\n",
       "  <thead>\n",
       "    <tr style=\"text-align: right;\">\n",
       "      <th></th>\n",
       "      <th>actor_id</th>\n",
       "      <th>movie_id</th>\n",
       "      <th>role</th>\n",
       "    </tr>\n",
       "  </thead>\n",
       "  <tbody>\n",
       "    <tr>\n",
       "      <th>0</th>\n",
       "      <td>2</td>\n",
       "      <td>280088</td>\n",
       "      <td>Stevie</td>\n",
       "    </tr>\n",
       "    <tr>\n",
       "      <th>1</th>\n",
       "      <td>2</td>\n",
       "      <td>396232</td>\n",
       "      <td>Various/lyricist</td>\n",
       "    </tr>\n",
       "    <tr>\n",
       "      <th>2</th>\n",
       "      <td>3</td>\n",
       "      <td>376687</td>\n",
       "      <td>Gitano 1</td>\n",
       "    </tr>\n",
       "    <tr>\n",
       "      <th>3</th>\n",
       "      <td>4</td>\n",
       "      <td>336265</td>\n",
       "      <td>El Cigala</td>\n",
       "    </tr>\n",
       "    <tr>\n",
       "      <th>4</th>\n",
       "      <td>5</td>\n",
       "      <td>135644</td>\n",
       "      <td>Himself</td>\n",
       "    </tr>\n",
       "    <tr>\n",
       "      <th>...</th>\n",
       "      <td>...</td>\n",
       "      <td>...</td>\n",
       "      <td>...</td>\n",
       "    </tr>\n",
       "    <tr>\n",
       "      <th>3431961</th>\n",
       "      <td>845461</td>\n",
       "      <td>137097</td>\n",
       "      <td>Kata</td>\n",
       "    </tr>\n",
       "    <tr>\n",
       "      <th>3431962</th>\n",
       "      <td>845462</td>\n",
       "      <td>208838</td>\n",
       "      <td>Magga</td>\n",
       "    </tr>\n",
       "    <tr>\n",
       "      <th>3431963</th>\n",
       "      <td>845463</td>\n",
       "      <td>870</td>\n",
       "      <td>Gunna</td>\n",
       "    </tr>\n",
       "    <tr>\n",
       "      <th>3431964</th>\n",
       "      <td>845464</td>\n",
       "      <td>378123</td>\n",
       "      <td>Gudrun</td>\n",
       "    </tr>\n",
       "    <tr>\n",
       "      <th>3431965</th>\n",
       "      <td>845465</td>\n",
       "      <td>378123</td>\n",
       "      <td></td>\n",
       "    </tr>\n",
       "  </tbody>\n",
       "</table>\n",
       "<p>3431966 rows × 3 columns</p>\n",
       "</div>"
      ],
      "text/plain": [
       "         actor_id  movie_id              role\n",
       "0               2    280088            Stevie\n",
       "1               2    396232  Various/lyricist\n",
       "2               3    376687          Gitano 1\n",
       "3               4    336265         El Cigala\n",
       "4               5    135644           Himself\n",
       "...           ...       ...               ...\n",
       "3431961    845461    137097              Kata\n",
       "3431962    845462    208838             Magga\n",
       "3431963    845463       870             Gunna\n",
       "3431964    845464    378123            Gudrun\n",
       "3431965    845465    378123                  \n",
       "\n",
       "[3431966 rows x 3 columns]"
      ]
     },
     "execution_count": 11,
     "metadata": {},
     "output_type": "execute_result"
    }
   ],
   "source": [
    "Roles = pd.read_json(path+\"\\hroles.json\")\n",
    "Roles"
   ]
  },
  {
   "cell_type": "code",
   "execution_count": 12,
   "metadata": {},
   "outputs": [],
   "source": [
    "Actors = {}\n",
    "with open(path+\"\\hactors.json\",\"r\",encoding=\"utf8\") as f:\n",
    "    Actors = json.load(f)\n"
   ]
  },
  {
   "cell_type": "code",
   "execution_count": 13,
   "metadata": {},
   "outputs": [
    {
     "data": {
      "text/plain": [
       "'C:\\\\Users\\\\qnava\\\\Desktop\\\\Ecole\\\\Cours\\\\A5\\\\S9\\\\Structures de données pour le cloud\\\\Projet\\\\IMDB\\\\json_files\\\\hactors.json'"
      ]
     },
     "execution_count": 13,
     "metadata": {},
     "output_type": "execute_result"
    }
   ],
   "source": [
    "path+\"\\hactors.json\""
   ]
  },
  {
   "cell_type": "code",
   "execution_count": 14,
   "metadata": {},
   "outputs": [],
   "source": [
    "Actors=  pd.read_json(path+\"\\hactors.json\")"
   ]
  },
  {
   "cell_type": "code",
   "execution_count": 15,
   "metadata": {},
   "outputs": [
    {
     "data": {
      "text/html": [
       "<div>\n",
       "<style scoped>\n",
       "    .dataframe tbody tr th:only-of-type {\n",
       "        vertical-align: middle;\n",
       "    }\n",
       "\n",
       "    .dataframe tbody tr th {\n",
       "        vertical-align: top;\n",
       "    }\n",
       "\n",
       "    .dataframe thead th {\n",
       "        text-align: right;\n",
       "    }\n",
       "</style>\n",
       "<table border=\"1\" class=\"dataframe\">\n",
       "  <thead>\n",
       "    <tr style=\"text-align: right;\">\n",
       "      <th></th>\n",
       "      <th>id</th>\n",
       "      <th>first_name</th>\n",
       "      <th>last_name</th>\n",
       "    </tr>\n",
       "  </thead>\n",
       "  <tbody>\n",
       "    <tr>\n",
       "      <th>0</th>\n",
       "      <td>1</td>\n",
       "      <td>Todd</td>\n",
       "      <td>1</td>\n",
       "    </tr>\n",
       "    <tr>\n",
       "      <th>1</th>\n",
       "      <td>2</td>\n",
       "      <td>Les</td>\n",
       "      <td>12 Poissons</td>\n",
       "    </tr>\n",
       "    <tr>\n",
       "      <th>2</th>\n",
       "      <td>3</td>\n",
       "      <td>Lejaren</td>\n",
       "      <td>a'Hiller</td>\n",
       "    </tr>\n",
       "    <tr>\n",
       "      <th>3</th>\n",
       "      <td>4</td>\n",
       "      <td>Nian</td>\n",
       "      <td>A</td>\n",
       "    </tr>\n",
       "    <tr>\n",
       "      <th>4</th>\n",
       "      <td>5</td>\n",
       "      <td>Khairiya</td>\n",
       "      <td>A-Mansour</td>\n",
       "    </tr>\n",
       "  </tbody>\n",
       "</table>\n",
       "</div>"
      ],
      "text/plain": [
       "   id first_name    last_name\n",
       "0   1       Todd            1\n",
       "1   2        Les  12 Poissons\n",
       "2   3    Lejaren     a'Hiller\n",
       "3   4       Nian            A\n",
       "4   5   Khairiya    A-Mansour"
      ]
     },
     "execution_count": 15,
     "metadata": {},
     "output_type": "execute_result"
    }
   ],
   "source": [
    "Directors.head()"
   ]
  },
  {
   "cell_type": "code",
   "execution_count": 16,
   "metadata": {},
   "outputs": [
    {
     "data": {
      "text/plain": [
       "1.0001036018924612"
      ]
     },
     "execution_count": 16,
     "metadata": {},
     "output_type": "execute_result"
    }
   ],
   "source": [
    "Directors.groupby([\"first_name\",\"last_name\"]).agg('count')[\"id\"].mean()"
   ]
  },
  {
   "cell_type": "markdown",
   "metadata": {},
   "source": [
    "## 1) Actors"
   ]
  },
  {
   "cell_type": "code",
   "execution_count": 11,
   "metadata": {},
   "outputs": [
    {
     "name": "stderr",
     "output_type": "stream",
     "text": [
      "100%|██████████| 817718/817718 [55:36<00:00, 245.08it/s]  \n"
     ]
    }
   ],
   "source": [
    "for actor in tqdm(Actors):\n",
    "    actor[\"roles\"] = []\n",
    "    temp = Roles[Roles[\"actor_id\"]==actor[\"id\"]]\n",
    "    if(temp.shape[0] >=1):\n",
    "        for row in range(temp.shape[0]):\n",
    "            dico = {\"role\":str(temp.iloc[row][\"role\"]),\"movie_id\":int(temp.iloc[row][\"movie_id\"])}\n",
    "            actor[\"roles\"].append(dico)"
   ]
  },
  {
   "cell_type": "code",
   "execution_count": 15,
   "metadata": {},
   "outputs": [
    {
     "data": {
      "text/plain": [
       "[{'id': 2,\n",
       "  'first_name': 'Michael',\n",
       "  'last_name': \"'babeepower' Viera\",\n",
       "  'gender': 'M',\n",
       "  'roles': [{'role': 'Stevie', 'movie_id': 280088},\n",
       "   {'role': 'Various/lyricist', 'movie_id': 396232}]},\n",
       " {'id': 3,\n",
       "  'first_name': 'Eloy',\n",
       "  'last_name': \"'Chincheta'\",\n",
       "  'gender': 'M',\n",
       "  'roles': [{'role': 'Gitano 1', 'movie_id': 376687}]},\n",
       " {'id': 4,\n",
       "  'first_name': 'Dieguito',\n",
       "  'last_name': \"'El Cigala'\",\n",
       "  'gender': 'M',\n",
       "  'roles': [{'role': 'El Cigala', 'movie_id': 336265}]},\n",
       " {'id': 5,\n",
       "  'first_name': 'Antonio',\n",
       "  'last_name': \"'El de Chipiona'\",\n",
       "  'gender': 'M',\n",
       "  'roles': [{'role': 'Himself', 'movie_id': 135644}]},\n",
       " {'id': 6,\n",
       "  'first_name': 'José',\n",
       "  'last_name': \"'El Francés'\",\n",
       "  'gender': 'M',\n",
       "  'roles': [{'role': '', 'movie_id': 12083}]}]"
      ]
     },
     "execution_count": 15,
     "metadata": {},
     "output_type": "execute_result"
    }
   ],
   "source": [
    "Actors[:5]"
   ]
  },
  {
   "cell_type": "code",
   "execution_count": 13,
   "metadata": {},
   "outputs": [],
   "source": [
    "with open('Structure2\\ActorFinal.json', 'w') as f:\n",
    "    json.dump(Actors, f)"
   ]
  },
  {
   "cell_type": "code",
   "execution_count": 23,
   "metadata": {},
   "outputs": [
    {
     "ename": "NameError",
     "evalue": "name 'Movie_genres' is not defined",
     "output_type": "error",
     "traceback": [
      "\u001b[1;31m---------------------------------------------------------------------------\u001b[0m",
      "\u001b[1;31mNameError\u001b[0m                                 Traceback (most recent call last)",
      "\u001b[1;32m~\\AppData\\Local\\Temp\\ipykernel_26008\\916527804.py\u001b[0m in \u001b[0;36m<module>\u001b[1;34m\u001b[0m\n\u001b[1;32m----> 1\u001b[1;33m \u001b[0mMovie_genres\u001b[0m\u001b[1;33m\u001b[0m\u001b[1;33m\u001b[0m\u001b[0m\n\u001b[0m",
      "\u001b[1;31mNameError\u001b[0m: name 'Movie_genres' is not defined"
     ]
    }
   ],
   "source": [
    "Movie_genres"
   ]
  },
  {
   "cell_type": "markdown",
   "metadata": {},
   "source": [
    "## 2) Movies"
   ]
  },
  {
   "cell_type": "code",
   "execution_count": 14,
   "metadata": {},
   "outputs": [],
   "source": [
    "A = Movies_genres.groupby(by=\"movie_id\")[\"genre\"].apply(list)"
   ]
  },
  {
   "cell_type": "code",
   "execution_count": 15,
   "metadata": {},
   "outputs": [],
   "source": [
    "B = Movies_directors.groupby(by= \"movie_id\").director_id.apply(list)"
   ]
  },
  {
   "cell_type": "code",
   "execution_count": 16,
   "metadata": {},
   "outputs": [],
   "source": [
    "C = Roles.groupby(by = \"movie_id\").actor_id.apply(list)"
   ]
  },
  {
   "cell_type": "code",
   "execution_count": 17,
   "metadata": {},
   "outputs": [],
   "source": [
    "M = Movies.set_index(\"id\").join([A,B,C])"
   ]
  },
  {
   "cell_type": "code",
   "execution_count": 18,
   "metadata": {},
   "outputs": [],
   "source": [
    "x=[\"\"]"
   ]
  },
  {
   "cell_type": "code",
   "execution_count": 19,
   "metadata": {
    "scrolled": true
   },
   "outputs": [
    {
     "data": {
      "text/plain": [
       "id\n",
       "0                          NaN\n",
       "1         [Documentary, Short]\n",
       "2              [Comedy, Crime]\n",
       "3                          NaN\n",
       "4                          NaN\n",
       "                  ...         \n",
       "412316                     NaN\n",
       "412317                     NaN\n",
       "412318                     NaN\n",
       "412319                     NaN\n",
       "412320                     NaN\n",
       "Name: genre, Length: 388269, dtype: object"
      ]
     },
     "execution_count": 19,
     "metadata": {},
     "output_type": "execute_result"
    }
   ],
   "source": [
    "M[\"genre\"]"
   ]
  },
  {
   "cell_type": "code",
   "execution_count": 24,
   "metadata": {},
   "outputs": [],
   "source": [
    "M=M.reset_index()"
   ]
  },
  {
   "cell_type": "code",
   "execution_count": 25,
   "metadata": {},
   "outputs": [],
   "source": [
    "result = M.to_json(orient=\"records\")\n",
    "parsed = json.loads(result)"
   ]
  },
  {
   "cell_type": "code",
   "execution_count": 43,
   "metadata": {},
   "outputs": [],
   "source": [
    "result = M.to_json(orient=\"records\")\n",
    "parsed = json.loads(result)"
   ]
  },
  {
   "cell_type": "code",
   "execution_count": 27,
   "metadata": {},
   "outputs": [],
   "source": [
    "with open('Structure2\\MoviesFinal.json', 'w') as f:\n",
    "    json.dump(parsed, f)"
   ]
  },
  {
   "cell_type": "markdown",
   "metadata": {},
   "source": [
    "## 3) Directors"
   ]
  },
  {
   "cell_type": "code",
   "execution_count": 9,
   "metadata": {},
   "outputs": [],
   "source": [
    "C = Movies_directors.groupby(by= \"director_id\").movie_id.apply(list)"
   ]
  },
  {
   "cell_type": "code",
   "execution_count": 10,
   "metadata": {},
   "outputs": [
    {
     "data": {
      "text/plain": [
       "director_id\n",
       "1           [378879]\n",
       "2           [281325]\n",
       "3    [30621, 304743]\n",
       "4            [60570]\n",
       "5            [63525]\n",
       "Name: movie_id, dtype: object"
      ]
     },
     "execution_count": 10,
     "metadata": {},
     "output_type": "execute_result"
    }
   ],
   "source": [
    "C.head()"
   ]
  },
  {
   "cell_type": "code",
   "execution_count": 11,
   "metadata": {},
   "outputs": [
    {
     "data": {
      "text/html": [
       "<div>\n",
       "<style scoped>\n",
       "    .dataframe tbody tr th:only-of-type {\n",
       "        vertical-align: middle;\n",
       "    }\n",
       "\n",
       "    .dataframe tbody tr th {\n",
       "        vertical-align: top;\n",
       "    }\n",
       "\n",
       "    .dataframe thead th {\n",
       "        text-align: right;\n",
       "    }\n",
       "</style>\n",
       "<table border=\"1\" class=\"dataframe\">\n",
       "  <thead>\n",
       "    <tr style=\"text-align: right;\">\n",
       "      <th></th>\n",
       "      <th>id</th>\n",
       "      <th>first_name</th>\n",
       "      <th>last_name</th>\n",
       "    </tr>\n",
       "  </thead>\n",
       "  <tbody>\n",
       "    <tr>\n",
       "      <th>0</th>\n",
       "      <td>1</td>\n",
       "      <td>Todd</td>\n",
       "      <td>1</td>\n",
       "    </tr>\n",
       "    <tr>\n",
       "      <th>1</th>\n",
       "      <td>2</td>\n",
       "      <td>Les</td>\n",
       "      <td>12 Poissons</td>\n",
       "    </tr>\n",
       "    <tr>\n",
       "      <th>2</th>\n",
       "      <td>3</td>\n",
       "      <td>Lejaren</td>\n",
       "      <td>a'Hiller</td>\n",
       "    </tr>\n",
       "    <tr>\n",
       "      <th>3</th>\n",
       "      <td>4</td>\n",
       "      <td>Nian</td>\n",
       "      <td>A</td>\n",
       "    </tr>\n",
       "    <tr>\n",
       "      <th>4</th>\n",
       "      <td>5</td>\n",
       "      <td>Khairiya</td>\n",
       "      <td>A-Mansour</td>\n",
       "    </tr>\n",
       "    <tr>\n",
       "      <th>...</th>\n",
       "      <td>...</td>\n",
       "      <td>...</td>\n",
       "      <td>...</td>\n",
       "    </tr>\n",
       "    <tr>\n",
       "      <th>86875</th>\n",
       "      <td>88797</td>\n",
       "      <td>Yusuf</td>\n",
       "      <td>Ünal</td>\n",
       "    </tr>\n",
       "    <tr>\n",
       "      <th>86876</th>\n",
       "      <td>88798</td>\n",
       "      <td>Ahmet</td>\n",
       "      <td>Ündag</td>\n",
       "    </tr>\n",
       "    <tr>\n",
       "      <th>86877</th>\n",
       "      <td>88799</td>\n",
       "      <td>Idil</td>\n",
       "      <td>Üner</td>\n",
       "    </tr>\n",
       "    <tr>\n",
       "      <th>86878</th>\n",
       "      <td>88800</td>\n",
       "      <td>Yüksel</td>\n",
       "      <td>Ünsal</td>\n",
       "    </tr>\n",
       "    <tr>\n",
       "      <th>86879</th>\n",
       "      <td>88801</td>\n",
       "      <td>Ahmet</td>\n",
       "      <td>Üstel</td>\n",
       "    </tr>\n",
       "  </tbody>\n",
       "</table>\n",
       "<p>86880 rows × 3 columns</p>\n",
       "</div>"
      ],
      "text/plain": [
       "          id first_name    last_name\n",
       "0          1       Todd            1\n",
       "1          2        Les  12 Poissons\n",
       "2          3    Lejaren     a'Hiller\n",
       "3          4       Nian            A\n",
       "4          5   Khairiya    A-Mansour\n",
       "...      ...        ...          ...\n",
       "86875  88797      Yusuf         Ünal\n",
       "86876  88798      Ahmet        Ündag\n",
       "86877  88799       Idil         Üner\n",
       "86878  88800     Yüksel        Ünsal\n",
       "86879  88801      Ahmet        Üstel\n",
       "\n",
       "[86880 rows x 3 columns]"
      ]
     },
     "execution_count": 11,
     "metadata": {},
     "output_type": "execute_result"
    }
   ],
   "source": [
    "Directors"
   ]
  },
  {
   "cell_type": "code",
   "execution_count": 14,
   "metadata": {},
   "outputs": [
    {
     "data": {
      "text/html": [
       "<div>\n",
       "<style scoped>\n",
       "    .dataframe tbody tr th:only-of-type {\n",
       "        vertical-align: middle;\n",
       "    }\n",
       "\n",
       "    .dataframe tbody tr th {\n",
       "        vertical-align: top;\n",
       "    }\n",
       "\n",
       "    .dataframe thead th {\n",
       "        text-align: right;\n",
       "    }\n",
       "</style>\n",
       "<table border=\"1\" class=\"dataframe\">\n",
       "  <thead>\n",
       "    <tr style=\"text-align: right;\">\n",
       "      <th></th>\n",
       "      <th>director_id</th>\n",
       "      <th>movie_id</th>\n",
       "    </tr>\n",
       "  </thead>\n",
       "  <tbody>\n",
       "    <tr>\n",
       "      <th>163516</th>\n",
       "      <td>38057</td>\n",
       "      <td>0</td>\n",
       "    </tr>\n",
       "    <tr>\n",
       "      <th>257818</th>\n",
       "      <td>60728</td>\n",
       "      <td>1</td>\n",
       "    </tr>\n",
       "    <tr>\n",
       "      <th>327612</th>\n",
       "      <td>77912</td>\n",
       "      <td>1</td>\n",
       "    </tr>\n",
       "    <tr>\n",
       "      <th>41291</th>\n",
       "      <td>9970</td>\n",
       "      <td>2</td>\n",
       "    </tr>\n",
       "    <tr>\n",
       "      <th>303093</th>\n",
       "      <td>71885</td>\n",
       "      <td>5</td>\n",
       "    </tr>\n",
       "    <tr>\n",
       "      <th>...</th>\n",
       "      <td>...</td>\n",
       "      <td>...</td>\n",
       "    </tr>\n",
       "    <tr>\n",
       "      <th>317133</th>\n",
       "      <td>75198</td>\n",
       "      <td>412317</td>\n",
       "    </tr>\n",
       "    <tr>\n",
       "      <th>182167</th>\n",
       "      <td>42605</td>\n",
       "      <td>412317</td>\n",
       "    </tr>\n",
       "    <tr>\n",
       "      <th>3040</th>\n",
       "      <td>890</td>\n",
       "      <td>412318</td>\n",
       "    </tr>\n",
       "    <tr>\n",
       "      <th>339033</th>\n",
       "      <td>80751</td>\n",
       "      <td>412319</td>\n",
       "    </tr>\n",
       "    <tr>\n",
       "      <th>272580</th>\n",
       "      <td>64499</td>\n",
       "      <td>412320</td>\n",
       "    </tr>\n",
       "  </tbody>\n",
       "</table>\n",
       "<p>371180 rows × 2 columns</p>\n",
       "</div>"
      ],
      "text/plain": [
       "        director_id  movie_id\n",
       "163516        38057         0\n",
       "257818        60728         1\n",
       "327612        77912         1\n",
       "41291          9970         2\n",
       "303093        71885         5\n",
       "...             ...       ...\n",
       "317133        75198    412317\n",
       "182167        42605    412317\n",
       "3040            890    412318\n",
       "339033        80751    412319\n",
       "272580        64499    412320\n",
       "\n",
       "[371180 rows x 2 columns]"
      ]
     },
     "execution_count": 14,
     "metadata": {},
     "output_type": "execute_result"
    }
   ],
   "source": []
  },
  {
   "cell_type": "code",
   "execution_count": 12,
   "metadata": {},
   "outputs": [
    {
     "name": "stderr",
     "output_type": "stream",
     "text": [
      "100%|██████████| 86880/86880 [01:53<00:00, 763.40it/s]\n"
     ]
    }
   ],
   "source": [
    "A = []\n",
    "for idd in tqdm(Directors.id.unique()):\n",
    "    temp = Directors_genres.loc[Directors_genres[\"director_id\"]==idd]\n",
    "    val = json.loads(temp[[\"genre\",\"prob\"]].to_json(orient='records'))\n",
    "    B = {}\n",
    "    if(val):\n",
    "        B = {\"id\":int(idd),\"first_name\":str(Directors[Directors[\"id\"]==idd][\"first_name\"].iloc[0]),\n",
    "             \"last_name\":str(Directors[Directors[\"id\"]==idd][\"last_name\"].iloc[0]), \"genres\":val}\n",
    "    else:\n",
    "        B = {\"id\":int(idd),\"first_name\":str(Directors[Directors[\"id\"]==idd][\"first_name\"].iloc[0]),\n",
    "             \"last_name\":str(Directors[Directors[\"id\"]==idd][\"last_name\"].iloc[0]), \"genres\":list()}\n",
    "    B[\"director_of\"] = []\n",
    "    if(idd in C.index):\n",
    "        B[\"director_of\"] = C.loc[idd]\n",
    "    A.append(B)"
   ]
  },
  {
   "cell_type": "code",
   "execution_count": 23,
   "metadata": {},
   "outputs": [
    {
     "data": {
      "text/html": [
       "<div>\n",
       "<style scoped>\n",
       "    .dataframe tbody tr th:only-of-type {\n",
       "        vertical-align: middle;\n",
       "    }\n",
       "\n",
       "    .dataframe tbody tr th {\n",
       "        vertical-align: top;\n",
       "    }\n",
       "\n",
       "    .dataframe thead th {\n",
       "        text-align: right;\n",
       "    }\n",
       "</style>\n",
       "<table border=\"1\" class=\"dataframe\">\n",
       "  <thead>\n",
       "    <tr style=\"text-align: right;\">\n",
       "      <th></th>\n",
       "      <th>id</th>\n",
       "      <th>first_name</th>\n",
       "      <th>last_name</th>\n",
       "      <th>genres</th>\n",
       "      <th>director_of</th>\n",
       "      <th>len_list</th>\n",
       "    </tr>\n",
       "  </thead>\n",
       "  <tbody>\n",
       "    <tr>\n",
       "      <th>0</th>\n",
       "      <td>1</td>\n",
       "      <td>Todd</td>\n",
       "      <td>1</td>\n",
       "      <td>[]</td>\n",
       "      <td>[378879]</td>\n",
       "      <td>1</td>\n",
       "    </tr>\n",
       "    <tr>\n",
       "      <th>1</th>\n",
       "      <td>2</td>\n",
       "      <td>Les</td>\n",
       "      <td>12 Poissons</td>\n",
       "      <td>[{'genre': 'Short', 'prob': 1.0}]</td>\n",
       "      <td>[281325]</td>\n",
       "      <td>1</td>\n",
       "    </tr>\n",
       "    <tr>\n",
       "      <th>2</th>\n",
       "      <td>3</td>\n",
       "      <td>Lejaren</td>\n",
       "      <td>a'Hiller</td>\n",
       "      <td>[{'genre': 'Drama', 'prob': 1.0}]</td>\n",
       "      <td>[30621, 304743]</td>\n",
       "      <td>2</td>\n",
       "    </tr>\n",
       "    <tr>\n",
       "      <th>3</th>\n",
       "      <td>4</td>\n",
       "      <td>Nian</td>\n",
       "      <td>A</td>\n",
       "      <td>[]</td>\n",
       "      <td>[60570]</td>\n",
       "      <td>1</td>\n",
       "    </tr>\n",
       "    <tr>\n",
       "      <th>4</th>\n",
       "      <td>5</td>\n",
       "      <td>Khairiya</td>\n",
       "      <td>A-Mansour</td>\n",
       "      <td>[{'genre': 'Documentary', 'prob': 1.0}]</td>\n",
       "      <td>[63525]</td>\n",
       "      <td>1</td>\n",
       "    </tr>\n",
       "  </tbody>\n",
       "</table>\n",
       "</div>"
      ],
      "text/plain": [
       "   id first_name    last_name                                   genres  \\\n",
       "0   1       Todd            1                                       []   \n",
       "1   2        Les  12 Poissons        [{'genre': 'Short', 'prob': 1.0}]   \n",
       "2   3    Lejaren     a'Hiller        [{'genre': 'Drama', 'prob': 1.0}]   \n",
       "3   4       Nian            A                                       []   \n",
       "4   5   Khairiya    A-Mansour  [{'genre': 'Documentary', 'prob': 1.0}]   \n",
       "\n",
       "       director_of  len_list  \n",
       "0         [378879]         1  \n",
       "1         [281325]         1  \n",
       "2  [30621, 304743]         2  \n",
       "3          [60570]         1  \n",
       "4          [63525]         1  "
      ]
     },
     "execution_count": 23,
     "metadata": {},
     "output_type": "execute_result"
    }
   ],
   "source": [
    "df_test = pd.DataFrame(A)\n",
    "df_test[\"len_list\"]= df_test[\"director_of\"].apply(lambda x :len(x))\n",
    "df_test.head()"
   ]
  },
  {
   "cell_type": "code",
   "execution_count": 24,
   "metadata": {},
   "outputs": [
    {
     "data": {
      "text/html": [
       "<div>\n",
       "<style scoped>\n",
       "    .dataframe tbody tr th:only-of-type {\n",
       "        vertical-align: middle;\n",
       "    }\n",
       "\n",
       "    .dataframe tbody tr th {\n",
       "        vertical-align: top;\n",
       "    }\n",
       "\n",
       "    .dataframe thead th {\n",
       "        text-align: right;\n",
       "    }\n",
       "</style>\n",
       "<table border=\"1\" class=\"dataframe\">\n",
       "  <thead>\n",
       "    <tr style=\"text-align: right;\">\n",
       "      <th></th>\n",
       "      <th>id</th>\n",
       "      <th>first_name</th>\n",
       "      <th>last_name</th>\n",
       "      <th>genres</th>\n",
       "      <th>director_of</th>\n",
       "      <th>len_list</th>\n",
       "    </tr>\n",
       "  </thead>\n",
       "  <tbody>\n",
       "    <tr>\n",
       "      <th>24545</th>\n",
       "      <td>25116</td>\n",
       "      <td>Dave</td>\n",
       "      <td>Fleischer</td>\n",
       "      <td>[{'genre': 'Action', 'prob': 0.00162075}, {'ge...</td>\n",
       "      <td>[124, 3404, 5494, 5566, 6555, 7090, 7908, 8970...</td>\n",
       "      <td>616</td>\n",
       "    </tr>\n",
       "    <tr>\n",
       "      <th>55293</th>\n",
       "      <td>56530</td>\n",
       "      <td>Georges</td>\n",
       "      <td>Méliès</td>\n",
       "      <td>[{'genre': 'Sci-Fi', 'prob': 0.0106383}, {'gen...</td>\n",
       "      <td>[1697, 5896, 7442, 7530, 8238, 10162, 10526, 1...</td>\n",
       "      <td>554</td>\n",
       "    </tr>\n",
       "    <tr>\n",
       "      <th>29897</th>\n",
       "      <td>30570</td>\n",
       "      <td>D.W.</td>\n",
       "      <td>Griffith</td>\n",
       "      <td>[{'genre': 'Sci-Fi', 'prob': 0.00199203}, {'ge...</td>\n",
       "      <td>[5083, 6600, 6810, 6930, 6982, 7397, 7400, 785...</td>\n",
       "      <td>530</td>\n",
       "    </tr>\n",
       "    <tr>\n",
       "      <th>1917</th>\n",
       "      <td>1958</td>\n",
       "      <td>Gilbert M. 'Broncho Billy'</td>\n",
       "      <td>Anderson</td>\n",
       "      <td>[{'genre': 'Western', 'prob': 0.769679}, {'gen...</td>\n",
       "      <td>[5517, 5842, 11047, 11048, 11049, 11051, 11052...</td>\n",
       "      <td>360</td>\n",
       "    </tr>\n",
       "    <tr>\n",
       "      <th>24019</th>\n",
       "      <td>24576</td>\n",
       "      <td>Louis</td>\n",
       "      <td>Feuillade</td>\n",
       "      <td>[{'genre': 'Mystery', 'prob': 0.0285714}, {'ge...</td>\n",
       "      <td>[5406, 8278, 8448, 8851, 15011, 15259, 16410, ...</td>\n",
       "      <td>345</td>\n",
       "    </tr>\n",
       "    <tr>\n",
       "      <th>...</th>\n",
       "      <td>...</td>\n",
       "      <td>...</td>\n",
       "      <td>...</td>\n",
       "      <td>...</td>\n",
       "      <td>...</td>\n",
       "      <td>...</td>\n",
       "    </tr>\n",
       "    <tr>\n",
       "      <th>79924</th>\n",
       "      <td>81688</td>\n",
       "      <td>Alain</td>\n",
       "      <td>Van Damme</td>\n",
       "      <td>[{'genre': 'Drama', 'prob': 1.0}]</td>\n",
       "      <td>[]</td>\n",
       "      <td>0</td>\n",
       "    </tr>\n",
       "    <tr>\n",
       "      <th>19487</th>\n",
       "      <td>19925</td>\n",
       "      <td>Gulab</td>\n",
       "      <td>Dhanwani</td>\n",
       "      <td>[]</td>\n",
       "      <td>[]</td>\n",
       "      <td>0</td>\n",
       "    </tr>\n",
       "    <tr>\n",
       "      <th>9498</th>\n",
       "      <td>9685</td>\n",
       "      <td>Sharon</td>\n",
       "      <td>Bridgeman</td>\n",
       "      <td>[{'genre': 'Horror', 'prob': 1.0}, {'genre': '...</td>\n",
       "      <td>[]</td>\n",
       "      <td>0</td>\n",
       "    </tr>\n",
       "    <tr>\n",
       "      <th>5941</th>\n",
       "      <td>6051</td>\n",
       "      <td>Silvano</td>\n",
       "      <td>Beltrame</td>\n",
       "      <td>[{'genre': 'Documentary', 'prob': 1.0}]</td>\n",
       "      <td>[]</td>\n",
       "      <td>0</td>\n",
       "    </tr>\n",
       "    <tr>\n",
       "      <th>35519</th>\n",
       "      <td>36302</td>\n",
       "      <td>Frank</td>\n",
       "      <td>Höfling</td>\n",
       "      <td>[{'genre': 'Crime', 'prob': 1.0}, {'genre': 'D...</td>\n",
       "      <td>[]</td>\n",
       "      <td>0</td>\n",
       "    </tr>\n",
       "  </tbody>\n",
       "</table>\n",
       "<p>86880 rows × 6 columns</p>\n",
       "</div>"
      ],
      "text/plain": [
       "          id                  first_name  last_name  \\\n",
       "24545  25116                        Dave  Fleischer   \n",
       "55293  56530                     Georges     Méliès   \n",
       "29897  30570                        D.W.   Griffith   \n",
       "1917    1958  Gilbert M. 'Broncho Billy'   Anderson   \n",
       "24019  24576                       Louis  Feuillade   \n",
       "...      ...                         ...        ...   \n",
       "79924  81688                       Alain  Van Damme   \n",
       "19487  19925                       Gulab   Dhanwani   \n",
       "9498    9685                      Sharon  Bridgeman   \n",
       "5941    6051                     Silvano   Beltrame   \n",
       "35519  36302                       Frank    Höfling   \n",
       "\n",
       "                                                  genres  \\\n",
       "24545  [{'genre': 'Action', 'prob': 0.00162075}, {'ge...   \n",
       "55293  [{'genre': 'Sci-Fi', 'prob': 0.0106383}, {'gen...   \n",
       "29897  [{'genre': 'Sci-Fi', 'prob': 0.00199203}, {'ge...   \n",
       "1917   [{'genre': 'Western', 'prob': 0.769679}, {'gen...   \n",
       "24019  [{'genre': 'Mystery', 'prob': 0.0285714}, {'ge...   \n",
       "...                                                  ...   \n",
       "79924                  [{'genre': 'Drama', 'prob': 1.0}]   \n",
       "19487                                                 []   \n",
       "9498   [{'genre': 'Horror', 'prob': 1.0}, {'genre': '...   \n",
       "5941             [{'genre': 'Documentary', 'prob': 1.0}]   \n",
       "35519  [{'genre': 'Crime', 'prob': 1.0}, {'genre': 'D...   \n",
       "\n",
       "                                             director_of  len_list  \n",
       "24545  [124, 3404, 5494, 5566, 6555, 7090, 7908, 8970...       616  \n",
       "55293  [1697, 5896, 7442, 7530, 8238, 10162, 10526, 1...       554  \n",
       "29897  [5083, 6600, 6810, 6930, 6982, 7397, 7400, 785...       530  \n",
       "1917   [5517, 5842, 11047, 11048, 11049, 11051, 11052...       360  \n",
       "24019  [5406, 8278, 8448, 8851, 15011, 15259, 16410, ...       345  \n",
       "...                                                  ...       ...  \n",
       "79924                                                 []         0  \n",
       "19487                                                 []         0  \n",
       "9498                                                  []         0  \n",
       "5941                                                  []         0  \n",
       "35519                                                 []         0  \n",
       "\n",
       "[86880 rows x 6 columns]"
      ]
     },
     "execution_count": 24,
     "metadata": {},
     "output_type": "execute_result"
    }
   ],
   "source": [
    "df_test.sort_values(\"len_list\",ascending=False)"
   ]
  },
  {
   "cell_type": "code",
   "execution_count": 27,
   "metadata": {},
   "outputs": [],
   "source": [
    "with open('Structure2\\DirectorFinal.json', 'w') as f:\n",
    "    json.dump(A, f)"
   ]
  },
  {
   "cell_type": "markdown",
   "metadata": {},
   "source": [
    "# End"
   ]
  }
 ],
 "metadata": {
  "kernelspec": {
   "display_name": "Python 3 (ipykernel)",
   "language": "python",
   "name": "python3"
  },
  "language_info": {
   "codemirror_mode": {
    "name": "ipython",
    "version": 3
   },
   "file_extension": ".py",
   "mimetype": "text/x-python",
   "name": "python",
   "nbconvert_exporter": "python",
   "pygments_lexer": "ipython3",
   "version": "3.8.13"
  }
 },
 "nbformat": 4,
 "nbformat_minor": 2
}
