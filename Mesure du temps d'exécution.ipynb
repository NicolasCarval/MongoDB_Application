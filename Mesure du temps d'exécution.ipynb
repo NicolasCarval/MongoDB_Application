{
 "cells": [
  {
   "cell_type": "markdown",
   "id": "4041b639",
   "metadata": {},
   "source": [
    "# Import des librairies "
   ]
  },
  {
   "cell_type": "code",
   "execution_count": 1,
   "id": "472052f7",
   "metadata": {},
   "outputs": [],
   "source": [
    "from pymongo import MongoClient\n",
    "from ssh_pymongo import MongoSession\n",
    "import pandas as pd\n",
    "import time\n",
    "\n",
    "from tqdm import tqdm\n",
    "import numpy as np\n",
    "\n",
    "import matplotlib.pyplot as plt \n",
    "import seaborn as sns\n",
    "from matplotlib import rcParams\n",
    "rcParams['figure.figsize'] = 15,8 #Taille de la figure affichée\n",
    "sns.set_style(\"darkgrid\")#style de l'arrière plan de seaborn "
   ]
  },
  {
   "cell_type": "markdown",
   "id": "1eb8d6ab",
   "metadata": {},
   "source": [
    "# Connexion "
   ]
  },
  {
   "cell_type": "code",
   "execution_count": 2,
   "id": "31ee92bf",
   "metadata": {},
   "outputs": [
    {
     "name": "stderr",
     "output_type": "stream",
     "text": [
      "2022-12-10 15:36:09,865| ERROR   | Password is required for key C:\\Users\\qnava/.ssh\\id_rsa\n"
     ]
    }
   ],
   "source": [
    "session = MongoSession(\n",
    "    \"MESIIN592022-0055.westeurope.cloudapp.azure.com\",\n",
    "    port=22,\n",
    "    user='administrateur',\n",
    "    password='SuperPassword!1',\n",
    "    uri=\"mongodb://MESIIN592022-0055:30000/\")\n",
    "\n",
    "movies = session.connection['movies']\n",
    "#Un warning apparaît mais il n'impacte pas l'exécution des requêtes."
   ]
  },
  {
   "cell_type": "code",
   "execution_count": 3,
   "id": "c4edda33",
   "metadata": {},
   "outputs": [],
   "source": [
    "def run_query_names(movies, pipeline):\n",
    "    return movies.Movies_sharding_name.aggregate(pipeline,allowDiskUse=True)\n",
    "\n",
    "def run_query_year(movies, pipeline):\n",
    "    return movies.Movies_sharding_year.aggregate(pipeline,allowDiskUse=True)"
   ]
  },
  {
   "cell_type": "markdown",
   "id": "5388f1ce",
   "metadata": {},
   "source": [
    "## Initialisation des pipelines des  requêtes"
   ]
  },
  {
   "cell_type": "code",
   "execution_count": 5,
   "id": "a208f7ad",
   "metadata": {},
   "outputs": [],
   "source": [
    "dict_queries ={}\n",
    "dict_queries[\"requête_1\"]= [{\n",
    "                        \"$match\": {\n",
    "                            \"name\": 'Modern Times'\n",
    "                        }\n",
    "                    }, {\n",
    "                        \"$project\": {\n",
    "                            \"name\": 1,\n",
    "                            \"year\": 1,\n",
    "                            \"rank\": 1,\n",
    "                            \"genre\": 1,\n",
    "                            'directors.first_name': 1,\n",
    "                            'directors.last_name': 1,\n",
    "                            \"roles\": 1\n",
    "                        }\n",
    "                    }]\n",
    "\n",
    "dict_queries[\"requête_2\"]= [{\n",
    "                         \"$match\": {\n",
    "                          'roles.first_name': 'Norman',\n",
    "                          'roles.last_name': 'Ainsley'\n",
    "                         }\n",
    "                        }, {\n",
    "                         \"$project\": {\n",
    "                          \"name\": 1}}]\n",
    "\n",
    "dict_queries[\"requête_3\"]= [{\n",
    "                         \"$match\": {\n",
    "                          'roles.first_name': 'Norman',\n",
    "                          'roles.last_name': 'Ainsley'\n",
    "                         }\n",
    "                        }, {\n",
    "                         \"$unwind\": {\n",
    "                          \"path\": '$roles',\n",
    "                          \"includeArrayIndex\": 'string',\n",
    "                          \"preserveNullAndEmptyArrays\": False\n",
    "                         }\n",
    "                        }, {\n",
    "                         \"$group\": {\n",
    "                          \"_id\": {\n",
    "                           \"_id\": '$roles.actor_id',\n",
    "                           \"first_name\": '$roles.first_name',\n",
    "                           \"last_name\": '$roles.last_name'\n",
    "                          },\n",
    "                          \"fieldN\": {\n",
    "                           \"$sum\": 1\n",
    "                          }\n",
    "                         }\n",
    "                        }, {\n",
    "                         \"$sort\": {\n",
    "                          \"fieldN\": -1}}]\n",
    "\n",
    "dict_queries[\"requête_4\"]= [{\n",
    "                             \"$match\": {\n",
    "                              'directors.first_name': 'Charles',\n",
    "                              'directors.last_name': 'Chaplin'\n",
    "                             }\n",
    "                            }, {\n",
    "                             \"$project\": {\n",
    "                              \"path\": '$directors.genres'\n",
    "                             }\n",
    "                            }, {\n",
    "                             \"$limit\": 1}]\n",
    "\n",
    "dict_queries[\"requête_5\"]= [{\n",
    "                         \"$match\": {\n",
    "                          \"genre\": 'Comedy'\n",
    "                         }\n",
    "                        }, {\n",
    "                         \"$unwind\": {\n",
    "                          \"path\": '$directors',\n",
    "                          \"includeArrayIndex\": 'string',\n",
    "                          \"preserveNullAndEmptyArrays\": False\n",
    "                         }\n",
    "                        }, {\n",
    "                         \"$group\": {\n",
    "                          \"_id\": '$directors',\n",
    "                          \"fieldN\": {\n",
    "                           \"$sum\": 1\n",
    "                          }\n",
    "                         }\n",
    "                        }, {\n",
    "                         \"$sort\": {\n",
    "                          \"fieldN\": -1\n",
    "                         }\n",
    "                        }, {\n",
    "                         \"$limit\": 3\n",
    "                        }]\n",
    "\n",
    "dict_queries[\"requête_7\"]= [{\n",
    "                         \"$match\": {\n",
    "                          \"year\": {\n",
    "                           \"$gt\": 2002\n",
    "                          },\n",
    "                          \"genre\": {\n",
    "                           \"$ne\": \"null\"\n",
    "                          },\n",
    "                          \"rank\": {\n",
    "                           \"$ne\": \"null\"\n",
    "                          }\n",
    "                         }\n",
    "                        }, {\n",
    "                         \"$unwind\": {\n",
    "                          \"path\": '$genre',\n",
    "                          \"includeArrayIndex\": 'string',\n",
    "                          \"preserveNullAndEmptyArrays\": False\n",
    "                         }\n",
    "                        }, {\n",
    "                         \"$group\": {\n",
    "                          \"_id\": {\n",
    "                           \"genre\": '$genre',\n",
    "                           \"year\": '$year'\n",
    "                          },\n",
    "                          \"fieldN\": {\n",
    "                           \"$avg\": '$rank'\n",
    "                          }\n",
    "                         }\n",
    "                        }, {\n",
    "                         \"$sort\": {\n",
    "                          \"fieldN\": -1\n",
    "                         }\n",
    "                        }, {\n",
    "                         \"$group\": {\n",
    "                          \"_id\": '$_id.year',\n",
    "                          \"note_moyenne\": {\n",
    "                           \"$first\": '$fieldN'\n",
    "                          },\n",
    "                          \"top\": {\n",
    "                           \"$first\": '$_id'\n",
    "                          }\n",
    "                         }\n",
    "                        }]\n",
    "\n",
    "\n",
    "dict_queries[\"requête_8\"]= [{\"$unwind\": {\"path\": '$roles',\"includeArrayIndex\": 'string',\"preserveNullAndEmptyArrays\": False}}, \n",
    "                            {\"$group\": {\"_id\": '$roles.actor_id',\"last_name\": {\"$first\": '$roles.last_name'},\n",
    "                          \"first\": {\"$first\": '$roles.first_name'},\n",
    "                          \"max\": {\"$max\": '$year'},\"min\": {\"$min\": '$year'}}}, \n",
    "                            {\"$addFields\": {\"dif\": {\"$subtract\": ['$max','$min']}}}, \n",
    "                            {\"$sort\": {\"dif\": -1}}]\n",
    "\n"
   ]
  },
  {
   "cell_type": "markdown",
   "id": "c0b461e4",
   "metadata": {},
   "source": [
    "# Exécution du code "
   ]
  },
  {
   "cell_type": "raw",
   "id": "03a0bc36",
   "metadata": {},
   "source": [
    "# Décommenter ce code pour réinitialiser le dataframe contenant les valeurs\n",
    "df_results = pd.DataFrame(columns=[\"Sharding\",\"Nb_shards\",\"Requete\",\"Temp_exec\",\"Num_run\",\"Mean_ref_time\",\"Std_ref_time\"])\n",
    "df_results.to_csv(\"enregistrements.csv\", index=False, sep=\"\\t\")\n",
    "df_results.head()"
   ]
  },
  {
   "cell_type": "markdown",
   "id": "10e448d8",
   "metadata": {},
   "source": [
    "## Pour chaque configuration on réexécute le code à partir d'ici "
   ]
  },
  {
   "cell_type": "markdown",
   "id": "c271cea9",
   "metadata": {},
   "source": [
    "### Paramères de la configuration"
   ]
  },
  {
   "cell_type": "code",
   "execution_count": 19,
   "id": "81c5a4ec",
   "metadata": {},
   "outputs": [],
   "source": [
    "#Nombre de shards de la configuration \n",
    "num_shards=1\n",
    "\n",
    "#Nombre de fois que l'on exécute chaque requête \n",
    "num_run = 10"
   ]
  },
  {
   "cell_type": "markdown",
   "id": "e6e4d244",
   "metadata": {},
   "source": [
    "### Lecture du dataframe "
   ]
  },
  {
   "cell_type": "code",
   "execution_count": 7,
   "id": "17292d29",
   "metadata": {},
   "outputs": [
    {
     "data": {
      "text/html": [
       "<div>\n",
       "<style scoped>\n",
       "    .dataframe tbody tr th:only-of-type {\n",
       "        vertical-align: middle;\n",
       "    }\n",
       "\n",
       "    .dataframe tbody tr th {\n",
       "        vertical-align: top;\n",
       "    }\n",
       "\n",
       "    .dataframe thead th {\n",
       "        text-align: right;\n",
       "    }\n",
       "</style>\n",
       "<table border=\"1\" class=\"dataframe\">\n",
       "  <thead>\n",
       "    <tr style=\"text-align: right;\">\n",
       "      <th></th>\n",
       "      <th>Sharding</th>\n",
       "      <th>Nb_shards</th>\n",
       "      <th>Requete</th>\n",
       "      <th>Temp_exec</th>\n",
       "      <th>Num_run</th>\n",
       "      <th>Mean_ref_time</th>\n",
       "      <th>Std_ref_time</th>\n",
       "    </tr>\n",
       "  </thead>\n",
       "  <tbody>\n",
       "    <tr>\n",
       "      <th>0</th>\n",
       "      <td>Names</td>\n",
       "      <td>3</td>\n",
       "      <td>requête_1</td>\n",
       "      <td>0.040992</td>\n",
       "      <td>0</td>\n",
       "      <td>0.231475</td>\n",
       "      <td>0.00703</td>\n",
       "    </tr>\n",
       "    <tr>\n",
       "      <th>1</th>\n",
       "      <td>Names</td>\n",
       "      <td>3</td>\n",
       "      <td>requête_1</td>\n",
       "      <td>0.046078</td>\n",
       "      <td>1</td>\n",
       "      <td>0.231475</td>\n",
       "      <td>0.00703</td>\n",
       "    </tr>\n",
       "    <tr>\n",
       "      <th>2</th>\n",
       "      <td>Names</td>\n",
       "      <td>3</td>\n",
       "      <td>requête_1</td>\n",
       "      <td>0.041978</td>\n",
       "      <td>2</td>\n",
       "      <td>0.231475</td>\n",
       "      <td>0.00703</td>\n",
       "    </tr>\n",
       "    <tr>\n",
       "      <th>3</th>\n",
       "      <td>Names</td>\n",
       "      <td>3</td>\n",
       "      <td>requête_1</td>\n",
       "      <td>0.041296</td>\n",
       "      <td>3</td>\n",
       "      <td>0.231475</td>\n",
       "      <td>0.00703</td>\n",
       "    </tr>\n",
       "    <tr>\n",
       "      <th>4</th>\n",
       "      <td>Names</td>\n",
       "      <td>3</td>\n",
       "      <td>requête_1</td>\n",
       "      <td>0.042637</td>\n",
       "      <td>4</td>\n",
       "      <td>0.231475</td>\n",
       "      <td>0.00703</td>\n",
       "    </tr>\n",
       "  </tbody>\n",
       "</table>\n",
       "</div>"
      ],
      "text/plain": [
       "  Sharding  Nb_shards    Requete  Temp_exec  Num_run  Mean_ref_time  \\\n",
       "0    Names          3  requête_1   0.040992        0       0.231475   \n",
       "1    Names          3  requête_1   0.046078        1       0.231475   \n",
       "2    Names          3  requête_1   0.041978        2       0.231475   \n",
       "3    Names          3  requête_1   0.041296        3       0.231475   \n",
       "4    Names          3  requête_1   0.042637        4       0.231475   \n",
       "\n",
       "   Std_ref_time  \n",
       "0       0.00703  \n",
       "1       0.00703  \n",
       "2       0.00703  \n",
       "3       0.00703  \n",
       "4       0.00703  "
      ]
     },
     "execution_count": 7,
     "metadata": {},
     "output_type": "execute_result"
    }
   ],
   "source": [
    "df_results= pd.read_csv(\"enregistrements.csv\",sep=\"\\t\")\n",
    "df_results.head()"
   ]
  },
  {
   "cell_type": "markdown",
   "id": "4aa086aa",
   "metadata": {},
   "source": [
    " ## Sharding sur Movie_names "
   ]
  },
  {
   "cell_type": "markdown",
   "id": "f782f605",
   "metadata": {},
   "source": [
    "### Exécution des requêtes pour la collection shardée sur Movie_names"
   ]
  },
  {
   "cell_type": "code",
   "execution_count": 21,
   "id": "ad844f6b",
   "metadata": {},
   "outputs": [
    {
     "name": "stderr",
     "output_type": "stream",
     "text": [
      "100%|██████████| 100/100 [00:47<00:00,  2.11it/s]\n"
     ]
    },
    {
     "name": "stdout",
     "output_type": "stream",
     "text": [
      "Mean temps ref :  0.47439605951309205\n",
      "Std temps ref :  0.011072152698238287\n",
      "Requête :  requête_1\n",
      "Requête :  requête_2\n",
      "Requête :  requête_3\n",
      "Requête :  requête_4\n",
      "Requête :  requête_5\n",
      "Requête :  requête_7\n",
      "Requête :  requête_8\n"
     ]
    }
   ],
   "source": [
    "sharding=\"Names\"\n",
    "ref= []\n",
    "# On exécute 100 fois une requête simple pour avoir une référence de comparaison entre les configurations\n",
    "for i in tqdm(range(100)): \n",
    "    start = time.time()\n",
    "    results=  run_query_names(movies,[{\"$count\":\"id\"}])\n",
    "    end=time.time()\n",
    "    ref.append(end-start)\n",
    "ref_mean=np.mean(ref)\n",
    "ref_std = np.std(ref)\n",
    "print(\"Mean temps ref : \",ref_mean)\n",
    "print(\"Std temps ref : \",ref_std)\n",
    "\n",
    "#On execute num_run fois chacune des autres requêtes\n",
    "for query in list(dict_queries.keys()) : \n",
    "    print(\"Requête : \",query)\n",
    "    for i in range(num_run) : \n",
    "        start = time.time()\n",
    "        results=  run_query_names(movies,dict_queries[query])\n",
    "        end=time.time()\n",
    "        df_results= df_results.append({\"Sharding\":sharding,\"Nb_shards\":num_shards,\"Requete\":query, \"Temp_exec\":end-start,\"Num_run\":i,\"Mean_ref_time\":ref_mean,\"Std_ref_time\":ref_std}, ignore_index=True)"
   ]
  },
  {
   "cell_type": "markdown",
   "id": "64767428",
   "metadata": {},
   "source": [
    "### On enregistre les résultats"
   ]
  },
  {
   "cell_type": "code",
   "execution_count": 22,
   "id": "5e3f1475",
   "metadata": {
    "scrolled": true
   },
   "outputs": [
    {
     "data": {
      "text/html": [
       "<div>\n",
       "<style scoped>\n",
       "    .dataframe tbody tr th:only-of-type {\n",
       "        vertical-align: middle;\n",
       "    }\n",
       "\n",
       "    .dataframe tbody tr th {\n",
       "        vertical-align: top;\n",
       "    }\n",
       "\n",
       "    .dataframe thead th {\n",
       "        text-align: right;\n",
       "    }\n",
       "</style>\n",
       "<table border=\"1\" class=\"dataframe\">\n",
       "  <thead>\n",
       "    <tr style=\"text-align: right;\">\n",
       "      <th></th>\n",
       "      <th>Sharding</th>\n",
       "      <th>Nb_shards</th>\n",
       "      <th>Requete</th>\n",
       "      <th>Temp_exec</th>\n",
       "      <th>Num_run</th>\n",
       "      <th>Mean_ref_time</th>\n",
       "      <th>Std_ref_time</th>\n",
       "    </tr>\n",
       "  </thead>\n",
       "  <tbody>\n",
       "    <tr>\n",
       "      <th>0</th>\n",
       "      <td>Names</td>\n",
       "      <td>3</td>\n",
       "      <td>requête_1</td>\n",
       "      <td>0.040992</td>\n",
       "      <td>0</td>\n",
       "      <td>0.231475</td>\n",
       "      <td>0.00703</td>\n",
       "    </tr>\n",
       "    <tr>\n",
       "      <th>1</th>\n",
       "      <td>Names</td>\n",
       "      <td>3</td>\n",
       "      <td>requête_1</td>\n",
       "      <td>0.046078</td>\n",
       "      <td>1</td>\n",
       "      <td>0.231475</td>\n",
       "      <td>0.00703</td>\n",
       "    </tr>\n",
       "    <tr>\n",
       "      <th>2</th>\n",
       "      <td>Names</td>\n",
       "      <td>3</td>\n",
       "      <td>requête_1</td>\n",
       "      <td>0.041978</td>\n",
       "      <td>2</td>\n",
       "      <td>0.231475</td>\n",
       "      <td>0.00703</td>\n",
       "    </tr>\n",
       "    <tr>\n",
       "      <th>3</th>\n",
       "      <td>Names</td>\n",
       "      <td>3</td>\n",
       "      <td>requête_1</td>\n",
       "      <td>0.041296</td>\n",
       "      <td>3</td>\n",
       "      <td>0.231475</td>\n",
       "      <td>0.00703</td>\n",
       "    </tr>\n",
       "    <tr>\n",
       "      <th>4</th>\n",
       "      <td>Names</td>\n",
       "      <td>3</td>\n",
       "      <td>requête_1</td>\n",
       "      <td>0.042637</td>\n",
       "      <td>4</td>\n",
       "      <td>0.231475</td>\n",
       "      <td>0.00703</td>\n",
       "    </tr>\n",
       "  </tbody>\n",
       "</table>\n",
       "</div>"
      ],
      "text/plain": [
       "  Sharding  Nb_shards    Requete  Temp_exec  Num_run  Mean_ref_time  \\\n",
       "0    Names          3  requête_1   0.040992        0       0.231475   \n",
       "1    Names          3  requête_1   0.046078        1       0.231475   \n",
       "2    Names          3  requête_1   0.041978        2       0.231475   \n",
       "3    Names          3  requête_1   0.041296        3       0.231475   \n",
       "4    Names          3  requête_1   0.042637        4       0.231475   \n",
       "\n",
       "   Std_ref_time  \n",
       "0       0.00703  \n",
       "1       0.00703  \n",
       "2       0.00703  \n",
       "3       0.00703  \n",
       "4       0.00703  "
      ]
     },
     "execution_count": 22,
     "metadata": {},
     "output_type": "execute_result"
    }
   ],
   "source": [
    "df_results.to_csv(\"enregistrements.csv\",sep=\"\\t\", index=False)\n",
    "df_results.head()"
   ]
  },
  {
   "cell_type": "markdown",
   "id": "664d41b3",
   "metadata": {},
   "source": [
    "### Boxplots des temps d'exécution"
   ]
  },
  {
   "cell_type": "code",
   "execution_count": 23,
   "id": "ef6ef78d",
   "metadata": {
    "scrolled": false
   },
   "outputs": [
    {
     "data": {
      "image/png": "[encoded data removed]",
      "text/plain": [
       "<Figure size 1500x800 with 1 Axes>"
      ]
     },
     "metadata": {},
     "output_type": "display_data"
    }
   ],
   "source": [
    "sns.boxplot(data=df_results[(df_results[\"Nb_shards\"]==num_shards) & (df_results[\"Sharding\"]==sharding)], x=\"Requete\", y=\"Temp_exec\")\n",
    "plt.title(\"Boxplots des temps d'exécution des requêtes\", fontsize=25)\n",
    "plt.show()"
   ]
  },
  {
   "cell_type": "markdown",
   "id": "c2e842be",
   "metadata": {},
   "source": [
    "## Sharding sur year : "
   ]
  },
  {
   "cell_type": "markdown",
   "id": "37f4d8e1",
   "metadata": {},
   "source": [
    "### On recharge les données "
   ]
  },
  {
   "cell_type": "code",
   "execution_count": 24,
   "id": "0824ede1",
   "metadata": {},
   "outputs": [],
   "source": [
    "df_results = pd.read_csv(\"enregistrements.csv\", sep=\"\\t\")"
   ]
  },
  {
   "cell_type": "markdown",
   "id": "6070aacf",
   "metadata": {},
   "source": [
    "### Exécution des requêtes pour la collection shardée sur Movie_year"
   ]
  },
  {
   "cell_type": "code",
   "execution_count": 25,
   "id": "8d461820",
   "metadata": {},
   "outputs": [
    {
     "name": "stderr",
     "output_type": "stream",
     "text": [
      "100%|██████████| 100/100 [00:46<00:00,  2.13it/s]\n"
     ]
    },
    {
     "name": "stdout",
     "output_type": "stream",
     "text": [
      "Mean temps ref :  0.46854127645492555\n",
      "Std temps ref :  0.014411549212264873\n",
      "Requête :  requête_1\n",
      "Requête :  requête_2\n",
      "Requête :  requête_3\n",
      "Requête :  requête_4\n",
      "Requête :  requête_5\n",
      "Requête :  requête_7\n",
      "Requête :  requête_8\n"
     ]
    }
   ],
   "source": [
    "sharding=\"year\"\n",
    "ref= []\n",
    "for i in tqdm(range(100)): \n",
    "    start = time.time()\n",
    "    results= run_query_year(movies,[{\"$count\":\"id\"}])\n",
    "    end=time.time()\n",
    "    ref.append(end-start)\n",
    "ref_mean=np.mean(ref)\n",
    "ref_std = np.std(ref)\n",
    "print(\"Mean temps ref : \",ref_mean)\n",
    "print(\"Std temps ref : \",ref_std)\n",
    "\n",
    "for query in list(dict_queries.keys()) : \n",
    "    print(\"Requête : \",query)\n",
    "    for i in range(num_run) : \n",
    "        start = time.time()\n",
    "        results=  run_query_year(movies,dict_queries[query])\n",
    "        end=time.time()\n",
    "        df_results= df_results.append({\"Sharding\":sharding,\"Nb_shards\":num_shards,\"Requete\":query, \"Temp_exec\":end-start,\"Num_run\":i,\"Mean_ref_time\":ref_mean,\"Std_ref_time\":ref_std}, ignore_index=True)"
   ]
  },
  {
   "cell_type": "markdown",
   "id": "1b8c0dd0",
   "metadata": {},
   "source": [
    "### On enregistre les résultats"
   ]
  },
  {
   "cell_type": "code",
   "execution_count": 26,
   "id": "fecc9c3a",
   "metadata": {},
   "outputs": [],
   "source": [
    "df_results.to_csv(\"enregistrements.csv\",sep=\"\\t\", index=False)"
   ]
  },
  {
   "cell_type": "markdown",
   "id": "01d29639",
   "metadata": {},
   "source": [
    "### On affiche les boxplots des temps d'exécution par requête"
   ]
  },
  {
   "cell_type": "code",
   "execution_count": 33,
   "id": "aac054fe",
   "metadata": {
    "scrolled": false
   },
   "outputs": [
    {
     "data": {
      "image/png": "[encoded data removed]",
      "text/plain": [
       "<Figure size 1500x800 with 1 Axes>"
      ]
     },
     "metadata": {},
     "output_type": "display_data"
    }
   ],
   "source": [
    "sns.boxplot(data=df_results[(df_results[\"Nb_shards\"]==num_shards) & (df_results[\"Sharding\"]==sharding)], x=\"Requete\", y=\"Temp_exec\")\n",
    "plt.title(\"Boxplots des temps d'exécution des requêtes\", fontsize=25)\n",
    "plt.show()"
   ]
  },
  {
   "cell_type": "markdown",
   "id": "1c521ad2",
   "metadata": {},
   "source": [
    "### Autres requêtes pouvant être utiles"
   ]
  },
  {
   "cell_type": "markdown",
   "id": "ed30ed5c",
   "metadata": {},
   "source": [
    "# Informations sur la structure de la base : "
   ]
  },
  {
   "cell_type": "markdown",
   "id": "17b95646",
   "metadata": {},
   "source": [
    "## Clés de sharding : "
   ]
  },
  {
   "cell_type": "code",
   "execution_count": 8,
   "id": "6ca72765",
   "metadata": {
    "scrolled": true
   },
   "outputs": [
    {
     "data": {
      "text/plain": [
       "{'_id_': {'v': 2, 'key': [('_id', 1)]},\n",
       " 'name_1': {'v': 2, 'key': [('name', 1.0)]}}"
      ]
     },
     "execution_count": 8,
     "metadata": {},
     "output_type": "execute_result"
    }
   ],
   "source": [
    "movies.Movies_sharding_name.index_information()"
   ]
  },
  {
   "cell_type": "code",
   "execution_count": 9,
   "id": "4f34ad50",
   "metadata": {
    "scrolled": true
   },
   "outputs": [
    {
     "data": {
      "text/plain": [
       "{'_id_': {'v': 2, 'key': [('_id', 1)]},\n",
       " 'year_1': {'v': 2, 'key': [('year', 1.0)]}}"
      ]
     },
     "execution_count": 9,
     "metadata": {},
     "output_type": "execute_result"
    }
   ],
   "source": [
    "movies.Movies_sharding_year.index_information()"
   ]
  }
 ],
 "metadata": {
  "kernelspec": {
   "display_name": "Python 3 (ipykernel)",
   "language": "python",
   "name": "python3"
  },
  "language_info": {
   "codemirror_mode": {
    "name": "ipython",
    "version": 3
   },
   "file_extension": ".py",
   "mimetype": "text/x-python",
   "name": "python",
   "nbconvert_exporter": "python",
   "pygments_lexer": "ipython3",
   "version": "3.9.15"
  }
 },
 "nbformat": 4,
 "nbformat_minor": 5
}
